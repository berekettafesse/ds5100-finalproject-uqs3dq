{
 "cells": [
  {
   "cell_type": "code",
   "execution_count": 1,
   "id": "1a9bfac7-777d-48c8-aed5-4de4c5d3da92",
   "metadata": {
    "tags": []
   },
   "outputs": [],
   "source": [
    "import numpy as np\n",
    "import montecarlo as mc\n",
    "import pandas as pd"
   ]
  },
  {
   "cell_type": "code",
   "execution_count": 2,
   "id": "a4d79995-df91-43bd-bbab-c17b6a3aa0c9",
   "metadata": {
    "tags": []
   },
   "outputs": [
    {
     "data": {
      "text/plain": [
       "True"
      ]
     },
     "execution_count": 2,
     "metadata": {},
     "output_type": "execute_result"
    }
   ],
   "source": [
    "x = np.array([1,2])\n",
    "isinstance(x, np.ndarray)"
   ]
  },
  {
   "cell_type": "code",
   "execution_count": 3,
   "id": "bdf9210c-22c5-4eba-9aea-afd0d7a09c76",
   "metadata": {
    "tags": []
   },
   "outputs": [
    {
     "name": "stdout",
     "output_type": "stream",
     "text": [
      "     0\n",
      "1  1.0\n",
      "2  1.0\n"
     ]
    }
   ],
   "source": [
    "d = mc.Die(x)"
   ]
  },
  {
   "cell_type": "code",
   "execution_count": 4,
   "id": "98fffd0e-a9f0-4d6e-8492-f99420674a55",
   "metadata": {
    "tags": []
   },
   "outputs": [
    {
     "ename": "AttributeError",
     "evalue": "'Die' object has no attribute 'df'",
     "output_type": "error",
     "traceback": [
      "\u001b[0;31m---------------------------------------------------------------------------\u001b[0m",
      "\u001b[0;31mAttributeError\u001b[0m                            Traceback (most recent call last)",
      "Cell \u001b[0;32mIn[4], line 1\u001b[0m\n\u001b[0;32m----> 1\u001b[0m \u001b[43md\u001b[49m\u001b[38;5;241;43m.\u001b[39;49m\u001b[43mdf\u001b[49m\n\u001b[1;32m      2\u001b[0m \u001b[38;5;66;03m# y = pd.DataFrame({1:1.0, 2:1.0}, orient='index')\u001b[39;00m\n\u001b[1;32m      3\u001b[0m \u001b[38;5;66;03m# y\u001b[39;00m\n",
      "\u001b[0;31mAttributeError\u001b[0m: 'Die' object has no attribute 'df'"
     ]
    }
   ],
   "source": [
    "d.df\n",
    "# y = pd.DataFrame({1:1.0, 2:1.0}, orient='index')\n",
    "# y"
   ]
  }
 ],
 "metadata": {
  "kernelspec": {
   "display_name": "Python 3 (ipykernel)",
   "language": "python",
   "name": "python3"
  },
  "language_info": {
   "codemirror_mode": {
    "name": "ipython",
    "version": 3
   },
   "file_extension": ".py",
   "mimetype": "text/x-python",
   "name": "python",
   "nbconvert_exporter": "python",
   "pygments_lexer": "ipython3",
   "version": "3.11.4"
  }
 },
 "nbformat": 4,
 "nbformat_minor": 5
}
