{
 "cells": [
  {
   "cell_type": "markdown",
   "id": "45762487-d33f-486d-8e38-2cdea04e3528",
   "metadata": {},
   "source": [
    "# Final Project Report\n",
    "\n",
    "* Class: DS 5100\n",
    "* Student Name: Bereket Tafesse\n",
    "* Student Net ID: uqs3dq\n",
    "* This URL: <https://github.com/berekettafesse/ds5100-finalproject-uqs3dq/blob/main/DS51200_FinalProjectTemplate.ipynb>"
   ]
  },
  {
   "cell_type": "markdown",
   "id": "acf756c1-ecaa-41dc-b6ca-d566eb94560b",
   "metadata": {},
   "source": [
    "# Instructions\n",
    "\n",
    "Follow the instructions in the Final Project isntructions notebook and put evidence of your work in this notebook.\n",
    "\n",
    "Total points for each subsection under **Deliverables** and **Scenarios** are given in parentheses.\n",
    "\n",
    "Breakdowns of points within subsections are specified within subsection instructions as bulleted lists.\n",
    "\n",
    "This project is worth **50 points**."
   ]
  },
  {
   "cell_type": "markdown",
   "id": "89dc7a32-f682-4402-8c1e-b6ccdb3e0e39",
   "metadata": {},
   "source": [
    "# Deliverables"
   ]
  },
  {
   "cell_type": "markdown",
   "id": "d32cb273-9a40-4909-a7ce-51f6e4958d3c",
   "metadata": {},
   "source": [
    "## The Monte Carlo Module (10)\n",
    "\n",
    "- URL included, appropriately named (1).\n",
    "- Includes all three specified classes (3).\n",
    "- Includes at least all 12 specified methods (6; .5 each)."
   ]
  },
  {
   "cell_type": "markdown",
   "id": "f5f3b070-de9e-4de9-bfae-8974d184aa28",
   "metadata": {},
   "source": [
    "Put the URL to your GitHub repo here.\n",
    "\n",
    "Repo URL: https://github.com/berekettafesse/ds5100-finalproject-uqs3dq"
   ]
  },
  {
   "cell_type": "markdown",
   "id": "162370fb-3729-4c85-b040-8c25b2c966d2",
   "metadata": {},
   "source": [
    "Paste a copyy of your module here.\n",
    "\n",
    "NOTE: Paste as text, not as code. Use triple backticks to wrap your code blocks."
   ]
  },
  {
   "cell_type": "markdown",
   "id": "6db968e6-b1af-466b-8d95-7b9e145f7c8f",
   "metadata": {},
   "source": [
    "```python\n",
    "import numpy as np\n",
    "import pandas as pd\n",
    "import random\n",
    "\n",
    "class Die:\n",
    "    \"\"\"An object with faces and weights that can be rolled to get results and be used in a game\"\"\"\n",
    "    \n",
    "    def __init__(self, faces):\n",
    "        \"\"\"Initializes Die object to have weight = 1.0 for all faces.\n",
    "        \n",
    "        Parameters: \n",
    "        faces (np.ndarray): An array of faces for the die that can be strings or numbers\n",
    "        \"\"\"\n",
    "        \n",
    "        if not isinstance(faces, np.ndarray):\n",
    "            raise TypeError(\"Please input a numpy array of faces.\")\n",
    "            \n",
    "        if not len(faces) == len(np.unique(faces)):\n",
    "            raise ValueError(\"Faces must be distinct.\")  \n",
    "            \n",
    "        self.__df = pd.DataFrame.from_dict({face:1.0 for face in faces}, \n",
    "                                           orient='index', columns=[\"Weight\"])\n",
    "        self.__df.index.name = 'Face'\n",
    "        \n",
    "        \n",
    "    def change_weight(self, face, new_weight):\n",
    "        \"\"\"Changes the weight of a face of the die.\n",
    "        \n",
    "        Parameters:\n",
    "        \n",
    "        face (str,int): The face of the die to be changed\n",
    "        new_weight: The new weight of the specified face\n",
    "        \"\"\"\n",
    "        if face not in self.__df.index:\n",
    "            raise IndexError('Please input a valid face.')\n",
    "        try:\n",
    "            float(new_weight)\n",
    "        except ValueError:\n",
    "            raise TypeError(\"Please input a valid weight\") from None\n",
    "        self.__df.loc[face] = float(new_weight)\n",
    "        \n",
    "        \n",
    "    def roll(self, rolls=1):\n",
    "        \"\"\"Rolls the die a given amount of times\n",
    "        \n",
    "        Parameters:\n",
    "        rolls (int): How many times to roll the die. Default = 1\n",
    "        \n",
    "        Returns:\n",
    "        list: outcomes\"\"\"\n",
    "        sample = random.choices(self.__df.index, weights=self.__df[\"Weight\"], k=rolls)\n",
    "        return(sample)\n",
    "        \n",
    "        \n",
    "    def current_state(self):\n",
    "        \"\"\"\n",
    "        Returns:\n",
    "        pd.DataFrame: copy of the die data frame storing the faces and weights\"\"\"\n",
    "        return(self.__df.copy())\n",
    "    \n",
    "               \n",
    "class Game:\n",
    "    \"\"\"An object that allows you to roll one or more \n",
    "    similar Die objects and get the results\"\"\"\n",
    "    \n",
    "    def __init__(self, dice):\n",
    "        \"\"\"Initializes Game object\n",
    "        \n",
    "        Parameters: \n",
    "        dice ([Die]): a list of Die objects with the same faces \"\"\"\n",
    "        self.dice = dice\n",
    "        self.__play_df = pd.DataFrame()\n",
    "        \n",
    "    def play(self, rolls):\n",
    "        \"\"\"Rolls each die and stores the results in a dataframe\n",
    "        \n",
    "        Parameters:\n",
    "        rolls (int): how many times to roll each die\"\"\"\n",
    "        df = pd.DataFrame()\n",
    "        x = 0\n",
    "        for die in self.dice:\n",
    "            df[x] = die.roll(rolls)\n",
    "            x+=1\n",
    "        df.index = df.index + 1\n",
    "        self.__play_df = df\n",
    "        \n",
    "    def recent_play(self, form = 'wide'):\n",
    "        \"\"\"Shows the results of the most recent play\n",
    "        \n",
    "        Parameters:\n",
    "        form (str): how to format the results, wide/narrow. Default wide\"\"\"\n",
    "        if form == 'wide':\n",
    "            return(self.__play_df)\n",
    "        elif form == 'narrow':\n",
    "            return(self.__play_df.stack())\n",
    "        else:\n",
    "            raise ValueError(\"Please only specify narrow or wide format\")\n",
    "        \n",
    "class Analyzer:\n",
    "    '''Takes the results of a game and computes \n",
    "    descriptive statistics about it'''\n",
    "    \n",
    "    def __init__(self, game):\n",
    "        \"\"\"Initializes an Analyzer\n",
    "        \n",
    "        Parameters:\n",
    "        game (Game): A game object that has been played\"\"\"\n",
    "        if isinstance(game, Game):\n",
    "            self.game = game\n",
    "        else:\n",
    "            raise ValueError(\"Please pass a Game object\")\n",
    "            \n",
    "    def jackpot(self):\n",
    "        \"\"\"Counts how many times a roll resulted in a jackpot\n",
    "        \n",
    "        Returns:\n",
    "        int: number of jackpots\n",
    "        \"\"\"\n",
    "        df = self.game.recent_play()\n",
    "        uniques = [len(df.loc[row].unique()) for row in df.index]\n",
    "        x = [1 if u==1 else 0 for u in uniques]\n",
    "        return sum(x)\n",
    "        \n",
    "    def face_counts_per_roll(self):\n",
    "        \"\"\"Counts how many times each face is rolled\n",
    "        \n",
    "        Returns:\n",
    "        pd.DataFrame: number of times a face was rolled in each event\"\"\"\n",
    "        df = self.game.recent_play()\n",
    "        \n",
    "        new_df = pd.DataFrame(index=self.game.dice[0].current_state().index)\n",
    "        new_df.index.name = \"Roll\"\n",
    "        \n",
    "        x = 1\n",
    "        for row in df.index:\n",
    "            counts = df.loc[row].value_counts()\n",
    "            new_df[x] = [counts[i] if i in counts.index else 0 for i in new_df.index]\n",
    "            x+=1\n",
    "\n",
    "        return new_df.transpose()\n",
    "        \n",
    "    def combo_count(self):\n",
    "        \"\"\"Counts the number of distinct combinations of faces rolled\n",
    "        \n",
    "        Returns:\n",
    "        pd.DataFrame: table with an index of the combination of faces and value of frequency\"\"\"\n",
    "        df = self.game.recent_play()\n",
    "        df = df.transpose()\n",
    "        sorted_df = df.apply(lambda x: \n",
    "                             x.sort_values().reset_index(drop = True)).transpose()\n",
    "        return sorted_df.value_counts().to_frame()\n",
    "        \n",
    "    def permutation_count(self):\n",
    "        \"\"\"Counts the number of distinct permutations of faces rolled\n",
    "        \n",
    "        Returns:\n",
    "        pd.DataFrame: table with an index of the permutation of faces and value of frequency\"\"\"\n",
    "        df = self.game.recent_play()\n",
    "        return df.value_counts().to_frame()\n",
    "```"
   ]
  },
  {
   "cell_type": "markdown",
   "id": "6377727a-8f0a-491e-9f1c-d9dc225edd35",
   "metadata": {},
   "source": [
    "## Unitest Module (2)\n",
    "\n",
    "Paste a copy of your test module below.\n",
    "\n",
    "NOTE: Paste as text, not as code. Use triple backticks to wrap your code blocks.\n",
    "\n",
    "- All methods have at least one test method (1).\n",
    "- Each method employs one of Unittest's Assert methods (1)."
   ]
  },
  {
   "cell_type": "markdown",
   "id": "d1880366-b4d0-4d19-a4be-dc83947ad935",
   "metadata": {},
   "source": [
    "```python\n",
    "import unittest\n",
    "import pandas as pd\n",
    "import numpy as np\n",
    "from montecarlo import montecarlo\n",
    "\n",
    "class MontecarloTestSuite(unittest.TestCase):\n",
    "    \n",
    "    def test_1_die_init(self):\n",
    "        with self.assertRaises(TypeError):\n",
    "            die = montecarlo.Die([1,2,3,4,5,6])\n",
    "    \n",
    "    def test_2_die_init(self):\n",
    "        with self.assertRaises(ValueError):\n",
    "            die = montecarlo.Die(np.array([1,1,2,3,4,5]))\n",
    "            \n",
    "    def test_3_current_state(self):\n",
    "        die = montecarlo.Die(np.array([1,2,3,4,5,6]))\n",
    "        assert all(x == 1.0 for x in die.current_state()['Weight'])\n",
    "        \n",
    "    def test_4_change_weight(self):\n",
    "        die = montecarlo.Die(np.array([1,2,3,4,5,6]))\n",
    "        die.change_weight(3, 0.01)\n",
    "        assert die.current_state().loc[3,'Weight'] == 0.01\n",
    "        \n",
    "    def test_5_change_weight(self):\n",
    "        with self.assertRaises(TypeError):\n",
    "            die = montecarlo.Die(np.array([1,2,3,4,5,6]))\n",
    "            die.change_weight(3, 'not a number')        \n",
    "    def test_6_change_weight(self):\n",
    "        with self.assertRaises(IndexError):\n",
    "            die = montecarlo.Die(np.array([1,2,3,4,5,6]))\n",
    "            die.change_weight('not a face', 0)    \n",
    "            \n",
    "    def test_7_roll(self):\n",
    "        die = montecarlo.Die(np.array([1,2,3,4,5,6]))\n",
    "        assert len(die.roll(12)) == 12\n",
    "\n",
    "    def test_8_current_state(self):\n",
    "        die = montecarlo.Die(np.array([1,2,3,4,5,6]))\n",
    "        assert isinstance(die.current_state(), pd.DataFrame)\n",
    "        \n",
    "    def test_9_game_init(self):\n",
    "        a = montecarlo.Die(np.array([1,2,3,4,5,6]))\n",
    "        b = montecarlo.Die(np.array([1,2,3,4,5,6]))\n",
    "        c = montecarlo.Die(np.array([1,2,3,4,5,6]))\n",
    "        d = montecarlo.Die(np.array([1,2,3,4,5,6]))\n",
    "        game = montecarlo.Game([a,b,c,d])\n",
    "\n",
    "        assert all(isinstance(x, montecarlo.Die) for x in game.dice)\n",
    "        \n",
    "    def test_10_play(self):\n",
    "        a = montecarlo.Die(np.array([1,2,3,4,5,6]))\n",
    "        b = montecarlo.Die(np.array([1,2,3,4,5,6]))\n",
    "        c = montecarlo.Die(np.array([1,2,3,4,5,6]))\n",
    "        d = montecarlo.Die(np.array([1,2,3,4,5,6]))\n",
    "        game = montecarlo.Game([a,b,c,d])\n",
    "        \n",
    "        game.play(3)\n",
    "        played = game.recent_play()\n",
    "        assert ((len(played.columns) == len(game.dice)) and (len(played.index) == 3))\n",
    "        \n",
    "    def test_11_recent_play(self):\n",
    "        a = montecarlo.Die(np.array([1,2,3,4,5,6]))\n",
    "        b = montecarlo.Die(np.array([1,2,3,4,5,6]))\n",
    "        c = montecarlo.Die(np.array([1,2,3,4,5,6]))\n",
    "        d = montecarlo.Die(np.array([1,2,3,4,5,6]))\n",
    "        game = montecarlo.Game([a,b,c,d])\n",
    "        \n",
    "        game.play(3)\n",
    "        played = game.recent_play(\"narrow\")   \n",
    "        assert len(played.columns) == 1\n",
    "        \n",
    "    def test_11_recent_play(self):\n",
    "        with self.assertRaises(ValueError):\n",
    "            a = montecarlo.Die(np.array([1,2,3,4,5,6]))\n",
    "            b = montecarlo.Die(np.array([1,2,3,4,5,6]))\n",
    "            c = montecarlo.Die(np.array([1,2,3,4,5,6]))\n",
    "            d = montecarlo.Die(np.array([1,2,3,4,5,6]))\n",
    "            game = montecarlo.Game([a,b,c,d])\n",
    "\n",
    "            game.play(3)\n",
    "            played = game.recent_play(\"not an arg\")     \n",
    "            \n",
    "    def test_12_analyzer_init(self):\n",
    "        with self.assertRaises(ValueError):\n",
    "            a = montecarlo.Analyzer(\"not a game\")\n",
    "            \n",
    "    def test_13_jackpot(self):\n",
    "        a = montecarlo.Die(np.array([1,2]))\n",
    "        a.change_weight(2,0)\n",
    "        game = montecarlo.Game([a])\n",
    "\n",
    "        game.play(20)\n",
    "        \n",
    "        analyzer = montecarlo.Analyzer(game)\n",
    "        \n",
    "        assert analyzer.jackpot() == 20\n",
    "        \n",
    "    def test_14_face_counts_per_roll(self):\n",
    "        a = montecarlo.Die(np.array([1,2]))\n",
    "        a.change_weight(2,0)\n",
    "        game = montecarlo.Game([a])\n",
    "\n",
    "        game.play(20)\n",
    "        \n",
    "        analyzer = montecarlo.Analyzer(game)\n",
    "        \n",
    "        assert all(x == 1 for x in analyzer.face_counts_per_roll()[1])\n",
    "        \n",
    "    def test_15_combo_count(self):\n",
    "        a = montecarlo.Die(np.array([1,2,3]))\n",
    "        b = montecarlo.Die(np.array([1,2,3]))\n",
    "        game = montecarlo.Game([a,b])\n",
    "\n",
    "        game.play(500)        \n",
    "            \n",
    "        analyzer = montecarlo.Analyzer(game)\n",
    "        \n",
    "        assert len(analyzer.combo_count().index) == 6\n",
    "        \n",
    "    def test_16_permutation_count(self):\n",
    "        a = montecarlo.Die(np.array([1,2,3]))\n",
    "        b = montecarlo.Die(np.array([1,2,3]))      \n",
    "        game = montecarlo.Game([a,b])\n",
    "\n",
    "        game.play(500)        \n",
    "            \n",
    "        analyzer = montecarlo.Analyzer(game)\n",
    "        \n",
    "        assert len(analyzer.permutation_count().index) == 9\n",
    "\n",
    "    \n",
    "if __name__ == '__main__':\n",
    "    \n",
    "    unittest.main(verbosity=3)\n",
    "```"
   ]
  },
  {
   "cell_type": "markdown",
   "id": "3e058d03-29bc-408f-b36d-0605b4f4b8c0",
   "metadata": {
    "tags": []
   },
   "source": [
    "## Unittest Results (3)\n",
    "\n",
    "Put a copy of the results of running your tests from the command line here.\n",
    "\n",
    "Again, paste as text using triple backticks.\n",
    "\n",
    "- All 12 specified methods return OK (3; .25 each)."
   ]
  },
  {
   "cell_type": "markdown",
   "id": "9e604eb0-d564-4de4-818a-71136d7a5cad",
   "metadata": {
    "tags": []
   },
   "source": [
    "```\n",
    "bash-4.4$python montecarlo_test.py\n",
    "Thank you for importing my final project package!\n",
    "test_10_play (__main__.MontecarloTestSuite.test_10_play) ... ok\n",
    "test_11_recent_play (__main__.MontecarloTestSuite.test_11_recent_play) ... ok\n",
    "test_12_analyzer_init (__main__.MontecarloTestSuite.test_12_analyzer_init) ... ok\n",
    "test_13_jackpot (__main__.MontecarloTestSuite.test_13_jackpot) ... ok\n",
    "test_14_face_counts_per_roll (__main__.MontecarloTestSuite.test_14_face_counts_per_roll) ... ok\n",
    "test_15_combo_count (__main__.MontecarloTestSuite.test_15_combo_count) ... ok\n",
    "test_16_permutation_count (__main__.MontecarloTestSuite.test_16_permutation_count) ... ok\n",
    "test_1_die_init (__main__.MontecarloTestSuite.test_1_die_init) ... ok\n",
    "test_2_die_init (__main__.MontecarloTestSuite.test_2_die_init) ... ok\n",
    "test_3_current_state (__main__.MontecarloTestSuite.test_3_current_state) ... ok\n",
    "test_4_change_weight (__main__.MontecarloTestSuite.test_4_change_weight) ... ok\n",
    "test_5_change_weight (__main__.MontecarloTestSuite.test_5_change_weight) ... ok\n",
    "test_6_change_weight (__main__.MontecarloTestSuite.test_6_change_weight) ... ok\n",
    "test_7_roll (__main__.MontecarloTestSuite.test_7_roll) ... ok\n",
    "test_8_current_state (__main__.MontecarloTestSuite.test_8_current_state) ... ok\n",
    "test_9_game_init (__main__.MontecarloTestSuite.test_9_game_init) ... ok\n",
    "\n",
    "----------------------------------------------------------------------\n",
    "Ran 16 tests in 0.090s\n",
    "\n",
    "OK\n",
    "```"
   ]
  },
  {
   "cell_type": "markdown",
   "id": "d9ffe8c5-eb2f-4ad1-af76-a46550e4c7ac",
   "metadata": {},
   "source": [
    "## Import (1)\n",
    "\n",
    "Import your module here. This import should refer to the code in your package directory.\n",
    "\n",
    "- Module successuflly imported (1)."
   ]
  },
  {
   "cell_type": "code",
   "execution_count": 1,
   "id": "a05dffb3-e6d6-4f78-9df4-5abd0cf74ca9",
   "metadata": {
    "tags": []
   },
   "outputs": [
    {
     "name": "stdout",
     "output_type": "stream",
     "text": [
      "Thank you for importing my final project package!\n"
     ]
    }
   ],
   "source": [
    "import montecarlo.montecarlo as montecarlo"
   ]
  },
  {
   "cell_type": "markdown",
   "id": "f30c4842-65b1-4556-98b6-3fe1a07e1371",
   "metadata": {},
   "source": [
    "## Help Docs (4)\n",
    "\n",
    "Show your docstring documentation by applying `help()` to your imported module.\n",
    "\n",
    "- All methods have a docstring (3; .25 each).\n",
    "- All classes have a docstring (1; .33 each)."
   ]
  },
  {
   "cell_type": "code",
   "execution_count": 2,
   "id": "bf4fbf1f-9885-471c-a0a6-e9ca90e160de",
   "metadata": {
    "tags": []
   },
   "outputs": [
    {
     "name": "stdout",
     "output_type": "stream",
     "text": [
      "Help on module montecarlo.montecarlo in montecarlo:\n",
      "\n",
      "NAME\n",
      "    montecarlo.montecarlo\n",
      "\n",
      "CLASSES\n",
      "    builtins.object\n",
      "        Analyzer\n",
      "        Die\n",
      "        Game\n",
      "    \n",
      "    class Analyzer(builtins.object)\n",
      "     |  Analyzer(game)\n",
      "     |  \n",
      "     |  Takes the results of a game and computes \n",
      "     |  descriptive statistics about it\n",
      "     |  \n",
      "     |  Methods defined here:\n",
      "     |  \n",
      "     |  __init__(self, game)\n",
      "     |      Initializes an Analyzer\n",
      "     |      \n",
      "     |      Parameters:\n",
      "     |      game (Game): A game object that has been played\n",
      "     |  \n",
      "     |  combo_count(self)\n",
      "     |      Counts the number of distinct combinations of faces rolled\n",
      "     |      \n",
      "     |      Returns:\n",
      "     |      pd.DataFrame: table with an index of the combination of faces and value of frequency\n",
      "     |  \n",
      "     |  face_counts_per_roll(self)\n",
      "     |      Counts how many times each face is rolled\n",
      "     |      \n",
      "     |      Returns:\n",
      "     |      pd.DataFrame: number of times a face was rolled in each event\n",
      "     |  \n",
      "     |  jackpot(self)\n",
      "     |      Counts how many times a roll resulted in a jackpot\n",
      "     |      \n",
      "     |      Returns:\n",
      "     |      int: number of jackpots\n",
      "     |  \n",
      "     |  permutation_count(self)\n",
      "     |      Counts the number of distinct permutations of faces rolled\n",
      "     |      \n",
      "     |      Returns:\n",
      "     |      pd.DataFrame: table with an index of the permutation of faces and value of frequency\n",
      "     |  \n",
      "     |  ----------------------------------------------------------------------\n",
      "     |  Data descriptors defined here:\n",
      "     |  \n",
      "     |  __dict__\n",
      "     |      dictionary for instance variables (if defined)\n",
      "     |  \n",
      "     |  __weakref__\n",
      "     |      list of weak references to the object (if defined)\n",
      "    \n",
      "    class Die(builtins.object)\n",
      "     |  Die(faces)\n",
      "     |  \n",
      "     |  An object with faces and weights that can be rolled to get results and be used in a game\n",
      "     |  \n",
      "     |  Methods defined here:\n",
      "     |  \n",
      "     |  __init__(self, faces)\n",
      "     |      Initializes Die object to have weight = 1.0 for all faces.\n",
      "     |      \n",
      "     |      Parameters: \n",
      "     |      faces (np.ndarray): An array of faces for the die that can be strings or numbers\n",
      "     |  \n",
      "     |  change_weight(self, face, new_weight)\n",
      "     |      Changes the weight of a face of the die.\n",
      "     |      \n",
      "     |      Parameters:\n",
      "     |      \n",
      "     |      face (str,int): The face of the die to be changed\n",
      "     |      new_weight: The new weight of the specified face\n",
      "     |  \n",
      "     |  current_state(self)\n",
      "     |      Returns:\n",
      "     |      pd.DataFrame: copy of the die data frame storing the faces and weights\n",
      "     |  \n",
      "     |  roll(self, rolls=1)\n",
      "     |      Rolls the die a given amount of times\n",
      "     |      \n",
      "     |      Parameters:\n",
      "     |      rolls (int): How many times to roll the die. Default = 1\n",
      "     |      \n",
      "     |      Returns:\n",
      "     |      list: outcomes\n",
      "     |  \n",
      "     |  ----------------------------------------------------------------------\n",
      "     |  Data descriptors defined here:\n",
      "     |  \n",
      "     |  __dict__\n",
      "     |      dictionary for instance variables (if defined)\n",
      "     |  \n",
      "     |  __weakref__\n",
      "     |      list of weak references to the object (if defined)\n",
      "    \n",
      "    class Game(builtins.object)\n",
      "     |  Game(dice)\n",
      "     |  \n",
      "     |  An object that allows you to roll one or more \n",
      "     |  similar Die objects and get the results\n",
      "     |  \n",
      "     |  Methods defined here:\n",
      "     |  \n",
      "     |  __init__(self, dice)\n",
      "     |      Initializes Game object\n",
      "     |      \n",
      "     |      Parameters: \n",
      "     |      dice ([Die]): a list of Die objects with the same faces\n",
      "     |  \n",
      "     |  play(self, rolls)\n",
      "     |      Rolls each die and stores the results in a dataframe\n",
      "     |      \n",
      "     |      Parameters:\n",
      "     |      rolls (int): how many times to roll each die\n",
      "     |  \n",
      "     |  recent_play(self, form='wide')\n",
      "     |      Shows the results of the most recent play\n",
      "     |      \n",
      "     |      Parameters:\n",
      "     |      form (str): how to format the results, wide/narrow. Default wide\n",
      "     |  \n",
      "     |  ----------------------------------------------------------------------\n",
      "     |  Data descriptors defined here:\n",
      "     |  \n",
      "     |  __dict__\n",
      "     |      dictionary for instance variables (if defined)\n",
      "     |  \n",
      "     |  __weakref__\n",
      "     |      list of weak references to the object (if defined)\n",
      "\n",
      "FILE\n",
      "    /sfs/qumulo/qhome/uqs3dq/Documents/MSDS/DS5100/ds5100-finalproject-uqs3dq/montecarlo/montecarlo.py\n",
      "\n",
      "\n"
     ]
    }
   ],
   "source": [
    "help(montecarlo)"
   ]
  },
  {
   "cell_type": "markdown",
   "id": "a9defa84-b395-4966-bd1c-5c6c2bb7ed68",
   "metadata": {},
   "source": [
    "## `README.md` File (3)\n",
    "\n",
    "Provide link to the README.md file of your project's repo.\n",
    "\n",
    "- Metadata section or info present (1).\n",
    "- Synopsis section showing how each class is called (1). (All must be included.)\n",
    "- API section listing all classes and methods (1). (All must be included.)"
   ]
  },
  {
   "cell_type": "markdown",
   "id": "ee090b33-d593-48a0-bf35-e739cea0942c",
   "metadata": {},
   "source": [
    "URL: https://github.com/berekettafesse/ds5100-finalproject-uqs3dq/blob/main/README.md"
   ]
  },
  {
   "cell_type": "markdown",
   "id": "108604c8-8827-42ef-ab59-6b25428fc0ca",
   "metadata": {},
   "source": [
    "## Successful installation (2)\n",
    "\n",
    "Put a screenshot or paste a copy of a terminal session where you successfully install your module with pip.\n",
    "\n",
    "If pasting text, use a preformatted text block to show the results.\n",
    "\n",
    "- Installed with `pip` (1).\n",
    "- Successfully installed message appears (1)."
   ]
  },
  {
   "cell_type": "markdown",
   "id": "e44bc84e-349f-4f5b-af9c-a8b83f9baede",
   "metadata": {},
   "source": [
    "<img src= pip_install.png>"
   ]
  },
  {
   "cell_type": "markdown",
   "id": "7c44695d-d1b3-4edf-9f94-e64d7446f199",
   "metadata": {},
   "source": [
    "# Scenarios\n",
    "\n",
    "Use code blocks to perform the tasks for each scenario.\n",
    "\n",
    "Be sure the outputs are visible before submitting."
   ]
  },
  {
   "cell_type": "markdown",
   "id": "e2479eae-6fc9-44cd-b8d7-9b22cb501f2a",
   "metadata": {
    "tags": []
   },
   "source": [
    "## Scenario 1: A 2-headed Coin (9)\n",
    "\n",
    "Task 1. Create a fair coin (with faces $H$ and $T$) and one unfair coin in which one of the faces has a weight of $5$ and the others $1$.\n",
    "\n",
    "- Fair coin created (1).\n",
    "- Unfair coin created with weight as specified (1)."
   ]
  },
  {
   "cell_type": "code",
   "execution_count": 3,
   "id": "ff2790a6-e4ea-493a-8b3d-e96afaa523d2",
   "metadata": {
    "tags": []
   },
   "outputs": [],
   "source": [
    "from montecarlo.montecarlo import Die, Game, Analyzer\n",
    "import numpy as np\n",
    "import pandas as pd"
   ]
  },
  {
   "cell_type": "code",
   "execution_count": 4,
   "id": "1803f3f0-74f7-4a11-a8c6-904b18f6ce07",
   "metadata": {
    "tags": []
   },
   "outputs": [],
   "source": [
    "fair_coin = Die(np.array([\"H\",\"T\"]))\n",
    "unfair_coin = Die(np.array([\"H\",\"T\"]))\n",
    "unfair_coin.change_weight(\"H\", 5)"
   ]
  },
  {
   "cell_type": "markdown",
   "id": "02b272ab-99da-4b6e-ac2a-555b73e09c07",
   "metadata": {},
   "source": [
    "Task 2. Play a game of $1000$ flips with two fair dice.\n",
    "\n",
    "- Play method called correclty and without error (1)."
   ]
  },
  {
   "cell_type": "code",
   "execution_count": 5,
   "id": "65c92601-d32d-4326-b215-74953aee27f2",
   "metadata": {
    "tags": []
   },
   "outputs": [],
   "source": [
    "game = Game([fair_coin, fair_coin])\n",
    "game.play(1000)"
   ]
  },
  {
   "cell_type": "markdown",
   "id": "7d9c3dc8-22c1-4cae-81fb-d68d774a05d1",
   "metadata": {},
   "source": [
    "Task 3. Play another game (using a new Game object) of $1000$ flips, this time using two unfair dice and one fair die. For the second unfair die, you can use the same die object twice in the list of dice you pass to the Game object.\n",
    "\n",
    "- New game object created (1).\n",
    "- Play method called correclty and without error (1)."
   ]
  },
  {
   "cell_type": "code",
   "execution_count": 6,
   "id": "d4098bed-1eb2-4084-8d5e-9fda07c3be43",
   "metadata": {
    "tags": []
   },
   "outputs": [],
   "source": [
    "game2 = Game([unfair_coin, unfair_coin, fair_coin])\n",
    "game2.play(1000)"
   ]
  },
  {
   "cell_type": "markdown",
   "id": "f690ebfc-fe71-4eb2-976d-7ac80ca6c23f",
   "metadata": {},
   "source": [
    "Task 4. For each game, use an Analyzer object to determine the raw frequency of jackpots — i.e. getting either all $H$s or all $T$s.\n",
    "\n",
    "- Analyzer objecs instantiated for both games (1).\n",
    "- Raw frequencies reported for both (1)."
   ]
  },
  {
   "cell_type": "code",
   "execution_count": 7,
   "id": "26934a68-abec-439b-ad82-5f9240d7873c",
   "metadata": {
    "tags": []
   },
   "outputs": [
    {
     "data": {
      "text/plain": [
       "478"
      ]
     },
     "execution_count": 7,
     "metadata": {},
     "output_type": "execute_result"
    }
   ],
   "source": [
    "game_analyzer = Analyzer(game)\n",
    "gj = game_analyzer.jackpot()\n",
    "gj"
   ]
  },
  {
   "cell_type": "code",
   "execution_count": 8,
   "id": "007a2624-2ddf-4dc9-a14f-081b21d59327",
   "metadata": {
    "tags": []
   },
   "outputs": [
    {
     "data": {
      "text/plain": [
       "336"
      ]
     },
     "execution_count": 8,
     "metadata": {},
     "output_type": "execute_result"
    }
   ],
   "source": [
    "game2_analyzer = Analyzer(game2)\n",
    "g2j = game2_analyzer.jackpot()\n",
    "g2j"
   ]
  },
  {
   "cell_type": "markdown",
   "id": "b73d233c-445e-40cd-8858-0c5e1f097105",
   "metadata": {},
   "source": [
    "Task 5. For each analyzer, compute relative frequency as the number of jackpots over the total number of rolls.\n",
    "\n",
    "- Both relative frequencies computed (1)."
   ]
  },
  {
   "cell_type": "code",
   "execution_count": 9,
   "id": "9a96b31b-1b9d-496e-be3e-4bf83c45ec3a",
   "metadata": {
    "tags": []
   },
   "outputs": [
    {
     "name": "stdout",
     "output_type": "stream",
     "text": [
      "0.478\n",
      "0.336\n"
     ]
    }
   ],
   "source": [
    "game_rf = gj/1000\n",
    "print(game_rf)\n",
    "game2_rf = g2j/1000\n",
    "print(game2_rf)"
   ]
  },
  {
   "cell_type": "markdown",
   "id": "a6e1e734-7f5c-4721-8ba4-2f3a424cf984",
   "metadata": {},
   "source": [
    "Task 6. Show your results, comparing the two relative frequencies, in a simple bar chart.\n",
    "\n",
    "- Bar chart plotted and correct (1)."
   ]
  },
  {
   "cell_type": "code",
   "execution_count": 10,
   "id": "955e3168-1d0c-4112-a46d-0e92c66fb34d",
   "metadata": {
    "tags": []
   },
   "outputs": [],
   "source": [
    "import matplotlib.pyplot as plt"
   ]
  },
  {
   "cell_type": "code",
   "execution_count": 11,
   "id": "2ea440fa-1b7c-4742-83fe-084d73c6d653",
   "metadata": {
    "tags": []
   },
   "outputs": [
    {
     "data": {
      "image/png": "[encoded data removed]",
      "text/plain": [
       "<Figure size 640x480 with 1 Axes>"
      ]
     },
     "metadata": {},
     "output_type": "display_data"
    }
   ],
   "source": [
    "plt.bar([\"Fair Coins\", \"Unfair Coins\"], [game_rf, game2_rf]);"
   ]
  },
  {
   "cell_type": "markdown",
   "id": "725cfa5b-e4b7-47c9-86aa-8d9e1fe6c8c7",
   "metadata": {},
   "source": [
    "## Scenario 2: A 6-sided Die (9)\n",
    "\n",
    "Task 1. Create three dice, each with six sides having the faces 1 through 6.\n",
    "\n",
    "- Three die objects created (1)."
   ]
  },
  {
   "cell_type": "code",
   "execution_count": 12,
   "id": "6a8bc611-325a-4e05-88d5-980e0a2cf7c5",
   "metadata": {
    "tags": []
   },
   "outputs": [],
   "source": [
    "a = Die(np.array([1,2,3,4,5,6]))\n",
    "b = Die(np.array([1,2,3,4,5,6]))\n",
    "c = Die(np.array([1,2,3,4,5,6]))"
   ]
  },
  {
   "cell_type": "markdown",
   "id": "2ed3ad26-fbe9-43bd-9ad7-f683a4191d12",
   "metadata": {},
   "source": [
    "Task 2. Convert one of the dice to an unfair one by weighting the face $6$ five times more than the other weights (i.e. it has weight of 5 and the others a weight of 1 each).\n",
    "\n",
    "- Unfair die created with proper call to weight change method (1)."
   ]
  },
  {
   "cell_type": "code",
   "execution_count": 13,
   "id": "e33dd18f-7f90-456d-a680-61c08a328e21",
   "metadata": {
    "tags": []
   },
   "outputs": [],
   "source": [
    "a.change_weight(6,5)"
   ]
  },
  {
   "cell_type": "markdown",
   "id": "7f6c062a-4c5b-45b9-96b8-76a0354c7e47",
   "metadata": {},
   "source": [
    "Task 3. Convert another of the dice to be unfair by weighting the face $1$ five times more than the others.\n",
    "\n",
    "- Unfair die created with proper call to weight change method (1)."
   ]
  },
  {
   "cell_type": "code",
   "execution_count": 14,
   "id": "01133a4e-6b06-4246-8d90-8e6d6995be51",
   "metadata": {
    "tags": []
   },
   "outputs": [],
   "source": [
    "b.change_weight(1,5)"
   ]
  },
  {
   "cell_type": "markdown",
   "id": "f0ed31cb-0a3c-4eb2-b85e-6ed6b2eb6e58",
   "metadata": {},
   "source": [
    "Task 4. Play a game of $10000$ rolls with $5$ fair dice.\n",
    "\n",
    "- Game class properly instantiated (1). \n",
    "- Play method called properly (1)."
   ]
  },
  {
   "cell_type": "code",
   "execution_count": 15,
   "id": "e92395a4-9ed8-4cb0-8c85-38768a784ffc",
   "metadata": {
    "tags": []
   },
   "outputs": [],
   "source": [
    "game = Game([c,c,c,c,c])\n",
    "game.play(10000)"
   ]
  },
  {
   "cell_type": "markdown",
   "id": "7814b402-46a4-40e5-8141-20e05c3e646b",
   "metadata": {},
   "source": [
    "Task 5. Play another game of $10000$ rolls, this time with $2$ unfair dice, one as defined in steps #2 and #3 respectively, and $3$ fair dice.\n",
    "\n",
    "- Game class properly instantiated (1). \n",
    "- Play method called properly (1)."
   ]
  },
  {
   "cell_type": "code",
   "execution_count": 16,
   "id": "7cd58fba-b2a5-4d5d-bc6d-2a7a68d18c4f",
   "metadata": {
    "tags": []
   },
   "outputs": [],
   "source": [
    "game2 = Game([a,b,c,c,c])\n",
    "game2.play(10000)"
   ]
  },
  {
   "cell_type": "markdown",
   "id": "7b6cd372-2bb8-4df8-ade1-8f48bc300955",
   "metadata": {},
   "source": [
    "Task 6. For each game, use an Analyzer object to determine the relative frequency of jackpots and show your results, comparing the two relative frequencies, in a simple bar chart.\n",
    "\n",
    "- Jackpot methods called (1).\n",
    "- Graph produced (1)."
   ]
  },
  {
   "cell_type": "code",
   "execution_count": 17,
   "id": "bbdcf695-8937-406e-9b53-aa0b9ee3c59a",
   "metadata": {
    "tags": []
   },
   "outputs": [
    {
     "data": {
      "image/png": "[encoded data removed]",
      "text/plain": [
       "<Figure size 640x480 with 1 Axes>"
      ]
     },
     "metadata": {},
     "output_type": "display_data"
    }
   ],
   "source": [
    "game_analyzer = Analyzer(game)\n",
    "gj = game_analyzer.jackpot() / 10000\n",
    "game2_analyzer = Analyzer(game2)\n",
    "g2j = game2_analyzer.jackpot() / 10000\n",
    "plt.bar([\"Fair Dice\", \"Unfair Dice\"], [gj, g2j]);"
   ]
  },
  {
   "cell_type": "markdown",
   "id": "9f04e9be-8fcf-4ea4-a391-6614608285f8",
   "metadata": {},
   "source": [
    "## Scenario 3: Letters of the Alphabet (7)\n",
    "\n",
    "Task 1. Create a \"die\" of letters from $A$ to $Z$ with weights based on their frequency of usage as found in the data file `english_letters.txt`. Use the frequencies (i.e. raw counts) as weights.\n",
    "\n",
    "- Die correctly instantiated with source file data (1).\n",
    "- Weights properly applied using weight setting method (1)."
   ]
  },
  {
   "cell_type": "code",
   "execution_count": 18,
   "id": "3e353a2c-4899-4c5b-b91c-ed6772a58bfb",
   "metadata": {
    "tags": []
   },
   "outputs": [],
   "source": [
    "letters = pd.read_table('english_letters.txt', sep=\" \" ,header=None)"
   ]
  },
  {
   "cell_type": "code",
   "execution_count": 19,
   "id": "76840ddf-bdfe-430d-a444-c1b5da52d007",
   "metadata": {
    "tags": []
   },
   "outputs": [
    {
     "data": {
      "text/html": [
       "<div>\n",
       "<style scoped>\n",
       "    .dataframe tbody tr th:only-of-type {\n",
       "        vertical-align: middle;\n",
       "    }\n",
       "\n",
       "    .dataframe tbody tr th {\n",
       "        vertical-align: top;\n",
       "    }\n",
       "\n",
       "    .dataframe thead th {\n",
       "        text-align: right;\n",
       "    }\n",
       "</style>\n",
       "<table border=\"1\" class=\"dataframe\">\n",
       "  <thead>\n",
       "    <tr style=\"text-align: right;\">\n",
       "      <th></th>\n",
       "      <th>Weight</th>\n",
       "    </tr>\n",
       "    <tr>\n",
       "      <th>Face</th>\n",
       "      <th></th>\n",
       "    </tr>\n",
       "  </thead>\n",
       "  <tbody>\n",
       "    <tr>\n",
       "      <th>E</th>\n",
       "      <td>529117365.0</td>\n",
       "    </tr>\n",
       "    <tr>\n",
       "      <th>T</th>\n",
       "      <td>390965105.0</td>\n",
       "    </tr>\n",
       "    <tr>\n",
       "      <th>A</th>\n",
       "      <td>374061888.0</td>\n",
       "    </tr>\n",
       "    <tr>\n",
       "      <th>O</th>\n",
       "      <td>326627740.0</td>\n",
       "    </tr>\n",
       "    <tr>\n",
       "      <th>I</th>\n",
       "      <td>320410057.0</td>\n",
       "    </tr>\n",
       "    <tr>\n",
       "      <th>N</th>\n",
       "      <td>313720540.0</td>\n",
       "    </tr>\n",
       "    <tr>\n",
       "      <th>S</th>\n",
       "      <td>294300210.0</td>\n",
       "    </tr>\n",
       "    <tr>\n",
       "      <th>R</th>\n",
       "      <td>277000841.0</td>\n",
       "    </tr>\n",
       "    <tr>\n",
       "      <th>H</th>\n",
       "      <td>216768975.0</td>\n",
       "    </tr>\n",
       "    <tr>\n",
       "      <th>L</th>\n",
       "      <td>183996130.0</td>\n",
       "    </tr>\n",
       "    <tr>\n",
       "      <th>D</th>\n",
       "      <td>169330528.0</td>\n",
       "    </tr>\n",
       "    <tr>\n",
       "      <th>C</th>\n",
       "      <td>138416451.0</td>\n",
       "    </tr>\n",
       "    <tr>\n",
       "      <th>U</th>\n",
       "      <td>117295780.0</td>\n",
       "    </tr>\n",
       "    <tr>\n",
       "      <th>M</th>\n",
       "      <td>110504544.0</td>\n",
       "    </tr>\n",
       "    <tr>\n",
       "      <th>F</th>\n",
       "      <td>95422055.0</td>\n",
       "    </tr>\n",
       "    <tr>\n",
       "      <th>G</th>\n",
       "      <td>91258980.0</td>\n",
       "    </tr>\n",
       "    <tr>\n",
       "      <th>P</th>\n",
       "      <td>90376747.0</td>\n",
       "    </tr>\n",
       "    <tr>\n",
       "      <th>W</th>\n",
       "      <td>79843664.0</td>\n",
       "    </tr>\n",
       "    <tr>\n",
       "      <th>Y</th>\n",
       "      <td>75294515.0</td>\n",
       "    </tr>\n",
       "    <tr>\n",
       "      <th>B</th>\n",
       "      <td>70195826.0</td>\n",
       "    </tr>\n",
       "    <tr>\n",
       "      <th>V</th>\n",
       "      <td>46337161.0</td>\n",
       "    </tr>\n",
       "    <tr>\n",
       "      <th>K</th>\n",
       "      <td>35373464.0</td>\n",
       "    </tr>\n",
       "    <tr>\n",
       "      <th>J</th>\n",
       "      <td>9613410.0</td>\n",
       "    </tr>\n",
       "    <tr>\n",
       "      <th>X</th>\n",
       "      <td>8369915.0</td>\n",
       "    </tr>\n",
       "    <tr>\n",
       "      <th>Z</th>\n",
       "      <td>4975847.0</td>\n",
       "    </tr>\n",
       "    <tr>\n",
       "      <th>Q</th>\n",
       "      <td>4550166.0</td>\n",
       "    </tr>\n",
       "  </tbody>\n",
       "</table>\n",
       "</div>"
      ],
      "text/plain": [
       "           Weight\n",
       "Face             \n",
       "E     529117365.0\n",
       "T     390965105.0\n",
       "A     374061888.0\n",
       "O     326627740.0\n",
       "I     320410057.0\n",
       "N     313720540.0\n",
       "S     294300210.0\n",
       "R     277000841.0\n",
       "H     216768975.0\n",
       "L     183996130.0\n",
       "D     169330528.0\n",
       "C     138416451.0\n",
       "U     117295780.0\n",
       "M     110504544.0\n",
       "F      95422055.0\n",
       "G      91258980.0\n",
       "P      90376747.0\n",
       "W      79843664.0\n",
       "Y      75294515.0\n",
       "B      70195826.0\n",
       "V      46337161.0\n",
       "K      35373464.0\n",
       "J       9613410.0\n",
       "X       8369915.0\n",
       "Z       4975847.0\n",
       "Q       4550166.0"
      ]
     },
     "execution_count": 19,
     "metadata": {},
     "output_type": "execute_result"
    }
   ],
   "source": [
    "letter_die = Die(np.array(letters[0]))\n",
    "for i in range(0,26):\n",
    "    letter_die.change_weight(letters.loc[i,0],letters.loc[i,1])\n",
    "letter_die.current_state()"
   ]
  },
  {
   "cell_type": "markdown",
   "id": "88e2e14a-6223-470a-a2c8-bca1120d7a5b",
   "metadata": {},
   "source": [
    "Task 2. Play a game involving $4$ of these dice with $1000$ rolls.\n",
    "\n",
    "- Game play method properly called (1)."
   ]
  },
  {
   "cell_type": "code",
   "execution_count": 20,
   "id": "2ae087cc-936d-4f1e-bddb-a7c179d139e0",
   "metadata": {
    "tags": []
   },
   "outputs": [],
   "source": [
    "game = Game([letter_die,letter_die,letter_die,letter_die])\n",
    "game.play(1000)"
   ]
  },
  {
   "cell_type": "markdown",
   "id": "3b9ff800-bf1f-4f66-9d7f-ff57a648e9f0",
   "metadata": {},
   "source": [
    "Task 3. Determine how many permutations in your results are actual English words, based on the vocabulary found in `scrabble_words.txt`.\n",
    "\n",
    "- Use permutation method (1).\n",
    "- Get count as difference between permutations and vocabulary (1)."
   ]
  },
  {
   "cell_type": "code",
   "execution_count": 21,
   "id": "0cb24d57-d8fe-4a5a-9ccb-dc80028dd8ec",
   "metadata": {
    "tags": []
   },
   "outputs": [],
   "source": [
    "scrabble = pd.read_table('scrabble_words.txt', sep=\" \" ,header=None)"
   ]
  },
  {
   "cell_type": "code",
   "execution_count": 22,
   "id": "ed1c7fa0-cfa3-4cf4-9fd0-9f84b86b0f64",
   "metadata": {},
   "outputs": [
    {
     "data": {
      "text/plain": [
       "56"
      ]
     },
     "execution_count": 22,
     "metadata": {},
     "output_type": "execute_result"
    }
   ],
   "source": [
    "game_analyzer = Analyzer(game)\n",
    "perms = game_analyzer.permutation_count()\n",
    "i = [''.join(x) for x in perms.index]\n",
    "actual_words = list(set(i).intersection(scrabble[0]))\n",
    "len(actual_words)"
   ]
  },
  {
   "cell_type": "markdown",
   "id": "fcf068cf-381a-4b3e-ac3a-0510eb4dbdb0",
   "metadata": {},
   "source": [
    "Task 4. Repeat steps #2 and #3, this time with $5$ dice. How many actual words does this produce? Which produces more?\n",
    "\n",
    "- Successfully repreats steps (1).\n",
    "- Identifies parameter with most found words (1)."
   ]
  },
  {
   "cell_type": "code",
   "execution_count": 23,
   "id": "1ab66f9d-76ba-4f72-b6ef-d38dd47081a4",
   "metadata": {},
   "outputs": [
    {
     "data": {
      "text/plain": [
       "5"
      ]
     },
     "execution_count": 23,
     "metadata": {},
     "output_type": "execute_result"
    }
   ],
   "source": [
    "game2 = Game([letter_die,letter_die,letter_die,letter_die, letter_die])\n",
    "game2.play(1000)\n",
    "\n",
    "game2_analyzer = Analyzer(game2)\n",
    "perms = game2_analyzer.permutation_count()\n",
    "i = [''.join(x) for x in perms.index]\n",
    "actual_words = list(set(i).intersection(scrabble[0]))\n",
    "len(actual_words)"
   ]
  },
  {
   "cell_type": "markdown",
   "id": "65ef0a51-b7ea-4476-a413-9142fc3fc2d6",
   "metadata": {},
   "source": [
    "The permutations with 4 dice had more actual words."
   ]
  }
 ],
 "metadata": {
  "kernelspec": {
   "display_name": "Python 3 (ipykernel)",
   "language": "python",
   "name": "python3"
  },
  "language_info": {
   "codemirror_mode": {
    "name": "ipython",
    "version": 3
   },
   "file_extension": ".py",
   "mimetype": "text/x-python",
   "name": "python",
   "nbconvert_exporter": "python",
   "pygments_lexer": "ipython3",
   "version": "3.11.4"
  },
  "toc-autonumbering": true,
  "widgets": {
   "application/vnd.jupyter.widget-state+json": {
    "state": {},
    "version_major": 2,
    "version_minor": 0
   }
  }
 },
 "nbformat": 4,
 "nbformat_minor": 5
}
